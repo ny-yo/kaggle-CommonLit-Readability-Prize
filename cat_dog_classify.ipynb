{
  "nbformat": 4,
  "nbformat_minor": 0,
  "metadata": {
    "colab": {
      "name": "cat_dog_classify",
      "provenance": [],
      "machine_shape": "hm",
      "authorship_tag": "ABX9TyMx4rHE7EISz/lrUEXunyKd",
      "include_colab_link": true
    },
    "kernelspec": {
      "name": "python3",
      "display_name": "Python 3"
    },
    "language_info": {
      "name": "python"
    },
    "accelerator": "GPU"
  },
  "cells": [
    {
      "cell_type": "markdown",
      "metadata": {
        "id": "view-in-github",
        "colab_type": "text"
      },
      "source": [
        "<a href=\"https://colab.research.google.com/github/ny-yo/kaggle-CommonLit-Readability-Prize/blob/main/cat_dog_classify.ipynb\" target=\"_parent\"><img src=\"https://colab.research.google.com/assets/colab-badge.svg\" alt=\"Open In Colab\"/></a>"
      ]
    },
    {
      "cell_type": "markdown",
      "metadata": {
        "id": "stD1t9AQFHkS"
      },
      "source": [
        "#犬と猫を分類するマルチラベル分類のモデルを作成"
      ]
    },
    {
      "cell_type": "markdown",
      "metadata": {
        "id": "A1HEqBD0-OWY"
      },
      "source": [
        "AI Academyの下記を参照した  \n",
        "https://aiacademy.jp/texts/show/?id=164"
      ]
    },
    {
      "cell_type": "markdown",
      "metadata": {
        "id": "psvwJfjxELJS"
      },
      "source": [
        "#google driveのマウント"
      ]
    },
    {
      "cell_type": "code",
      "metadata": {
        "colab": {
          "base_uri": "https://localhost:8080/"
        },
        "id": "J5o1x3D0_6xN",
        "outputId": "b7fd3ad7-8b3e-4537-85ff-07bd33c64d55"
      },
      "source": [
        "from google.colab import drive #インポート\n",
        "drive.mount('/content/drive/') #GoogleDriveのマウント"
      ],
      "execution_count": 1,
      "outputs": [
        {
          "output_type": "stream",
          "text": [
            "Mounted at /content/drive/\n"
          ],
          "name": "stdout"
        }
      ]
    },
    {
      "cell_type": "markdown",
      "metadata": {
        "id": "AVGdp0OsESHJ"
      },
      "source": [
        "#画像収集ライブラリicawlerで画像データをダウンロード  \n",
        "bingだと動作したがgoogleimageだとダウンロードできず"
      ]
    },
    {
      "cell_type": "code",
      "metadata": {
        "colab": {
          "base_uri": "https://localhost:8080/"
        },
        "id": "ZbZANx02-VDj",
        "outputId": "2959602d-f5d9-4359-8063-95be75b84044"
      },
      "source": [
        "#pythonの画像収集ライブラリ\n",
        "!pip install icrawler"
      ],
      "execution_count": 2,
      "outputs": [
        {
          "output_type": "stream",
          "text": [
            "Collecting icrawler\n",
            "  Downloading icrawler-0.6.4.tar.gz (26 kB)\n",
            "Requirement already satisfied: beautifulsoup4>=4.4.1 in /usr/local/lib/python3.7/dist-packages (from icrawler) (4.6.3)\n",
            "Requirement already satisfied: lxml in /usr/local/lib/python3.7/dist-packages (from icrawler) (4.2.6)\n",
            "Requirement already satisfied: requests>=2.9.1 in /usr/local/lib/python3.7/dist-packages (from icrawler) (2.23.0)\n",
            "Requirement already satisfied: six>=1.10.0 in /usr/local/lib/python3.7/dist-packages (from icrawler) (1.15.0)\n",
            "Requirement already satisfied: Pillow in /usr/local/lib/python3.7/dist-packages (from icrawler) (7.1.2)\n",
            "Requirement already satisfied: certifi>=2017.4.17 in /usr/local/lib/python3.7/dist-packages (from requests>=2.9.1->icrawler) (2021.5.30)\n",
            "Requirement already satisfied: idna<3,>=2.5 in /usr/local/lib/python3.7/dist-packages (from requests>=2.9.1->icrawler) (2.10)\n",
            "Requirement already satisfied: urllib3!=1.25.0,!=1.25.1,<1.26,>=1.21.1 in /usr/local/lib/python3.7/dist-packages (from requests>=2.9.1->icrawler) (1.24.3)\n",
            "Requirement already satisfied: chardet<4,>=3.0.2 in /usr/local/lib/python3.7/dist-packages (from requests>=2.9.1->icrawler) (3.0.4)\n",
            "Building wheels for collected packages: icrawler\n",
            "  Building wheel for icrawler (setup.py) ... \u001b[?25l\u001b[?25hdone\n",
            "  Created wheel for icrawler: filename=icrawler-0.6.4-py2.py3-none-any.whl size=35063 sha256=9d31382ae3e74bfaf845d9d6112f05d7685b07f6173489fea24552bc49172481\n",
            "  Stored in directory: /root/.cache/pip/wheels/34/9a/e6/a8bc00ac61ff1f0e613af0d181feaef49ed226915ee7ff19d1\n",
            "Successfully built icrawler\n",
            "Installing collected packages: icrawler\n",
            "Successfully installed icrawler-0.6.4\n"
          ],
          "name": "stdout"
        }
      ]
    },
    {
      "cell_type": "code",
      "metadata": {
        "colab": {
          "base_uri": "https://localhost:8080/"
        },
        "id": "wWoNSGaj-n3E",
        "outputId": "8e9a8db8-4684-4987-cdac-b1e08cfb283a"
      },
      "source": [
        "from icrawler.builtin import BingImageCrawler\n",
        "\n",
        "# 猫の画像を100枚取得\n",
        "crawler = BingImageCrawler(storage={\"root_dir\": \"drive/MyDrive/KK_proto/images/cat\"})\n",
        "crawler.crawl(keyword=\"猫\", max_num=100)"
      ],
      "execution_count": 3,
      "outputs": [
        {
          "output_type": "stream",
          "text": [
            "2021-08-07 10:16:26,471 - INFO - icrawler.crawler - start crawling...\n",
            "2021-08-07 10:16:26,472 - INFO - icrawler.crawler - starting 1 feeder threads...\n",
            "2021-08-07 10:16:26,474 - INFO - feeder - thread feeder-001 exit\n",
            "2021-08-07 10:16:26,476 - INFO - icrawler.crawler - starting 1 parser threads...\n",
            "2021-08-07 10:16:26,479 - INFO - icrawler.crawler - starting 1 downloader threads...\n",
            "2021-08-07 10:16:26,776 - INFO - parser - parsing result page https://www.bing.com/images/async?q=猫&first=0\n",
            "2021-08-07 10:16:27,478 - INFO - downloader - skip downloading file 000001.jpg\n",
            "2021-08-07 10:16:27,480 - INFO - downloader - skip downloading file 000002.jpg\n",
            "2021-08-07 10:16:27,484 - INFO - downloader - skip downloading file 000003.jpg\n",
            "2021-08-07 10:16:27,486 - INFO - downloader - skip downloading file 000004.jpg\n",
            "2021-08-07 10:16:27,488 - INFO - downloader - skip downloading file 000005.jpg\n",
            "2021-08-07 10:16:27,490 - INFO - downloader - skip downloading file 000006.jpg\n",
            "2021-08-07 10:16:27,491 - INFO - downloader - skip downloading file 000007.jpg\n",
            "2021-08-07 10:16:27,494 - INFO - downloader - skip downloading file 000008.jpg\n",
            "2021-08-07 10:16:27,496 - INFO - downloader - skip downloading file 000009.jpg\n",
            "2021-08-07 10:16:27,498 - INFO - downloader - skip downloading file 000010.jpg\n",
            "2021-08-07 10:16:27,499 - INFO - downloader - skip downloading file 000011.jpg\n",
            "2021-08-07 10:16:27,501 - INFO - downloader - skip downloading file 000012.jpg\n",
            "2021-08-07 10:16:27,503 - INFO - downloader - skip downloading file 000013.jpg\n",
            "2021-08-07 10:16:27,504 - INFO - downloader - skip downloading file 000014.jpg\n",
            "2021-08-07 10:16:27,507 - INFO - downloader - skip downloading file 000015.jpg\n",
            "2021-08-07 10:16:27,511 - INFO - downloader - skip downloading file 000016.jpg\n",
            "2021-08-07 10:16:27,512 - INFO - downloader - skip downloading file 000017.jpg\n",
            "2021-08-07 10:16:27,514 - INFO - downloader - skip downloading file 000018.jpg\n",
            "2021-08-07 10:16:27,516 - INFO - downloader - skip downloading file 000019.jpg\n",
            "2021-08-07 10:16:27,517 - INFO - downloader - skip downloading file 000020.jpg\n",
            "2021-08-07 10:16:27,519 - INFO - downloader - skip downloading file 000021.jpg\n",
            "2021-08-07 10:16:27,522 - INFO - downloader - skip downloading file 000022.jpg\n",
            "2021-08-07 10:16:27,523 - INFO - downloader - skip downloading file 000023.jpg\n",
            "2021-08-07 10:16:27,526 - INFO - downloader - skip downloading file 000024.jpg\n",
            "2021-08-07 10:16:27,528 - INFO - downloader - skip downloading file 000025.jpg\n",
            "2021-08-07 10:16:27,529 - INFO - downloader - skip downloading file 000026.jpg\n",
            "2021-08-07 10:16:27,532 - INFO - downloader - skip downloading file 000027.jpg\n",
            "2021-08-07 10:16:27,534 - INFO - downloader - skip downloading file 000028.jpg\n",
            "2021-08-07 10:16:27,536 - INFO - downloader - skip downloading file 000029.jpg\n",
            "2021-08-07 10:16:27,538 - INFO - downloader - skip downloading file 000030.jpg\n",
            "2021-08-07 10:16:27,540 - INFO - downloader - skip downloading file 000031.jpg\n",
            "2021-08-07 10:16:27,542 - INFO - downloader - skip downloading file 000032.jpg\n",
            "2021-08-07 10:16:27,545 - INFO - downloader - skip downloading file 000033.jpg\n",
            "2021-08-07 10:16:27,546 - INFO - downloader - skip downloading file 000034.jpg\n",
            "2021-08-07 10:16:27,548 - INFO - downloader - skip downloading file 000035.jpg\n",
            "2021-08-07 10:16:27,764 - INFO - parser - parsing result page https://www.bing.com/images/async?q=猫&first=20\n",
            "2021-08-07 10:16:27,779 - INFO - downloader - skip downloading file 000036.jpg\n",
            "2021-08-07 10:16:27,781 - INFO - downloader - skip downloading file 000037.jpg\n",
            "2021-08-07 10:16:27,782 - INFO - downloader - skip downloading file 000038.jpg\n",
            "2021-08-07 10:16:27,784 - INFO - downloader - skip downloading file 000039.jpg\n",
            "2021-08-07 10:16:27,787 - INFO - downloader - skip downloading file 000040.jpg\n",
            "2021-08-07 10:16:27,790 - INFO - downloader - skip downloading file 000041.jpg\n",
            "2021-08-07 10:16:27,792 - INFO - downloader - skip downloading file 000042.jpg\n",
            "2021-08-07 10:16:27,793 - INFO - downloader - skip downloading file 000043.jpg\n",
            "2021-08-07 10:16:27,796 - INFO - downloader - skip downloading file 000044.jpg\n",
            "2021-08-07 10:16:27,798 - INFO - downloader - skip downloading file 000045.jpg\n",
            "2021-08-07 10:16:27,801 - INFO - downloader - skip downloading file 000046.jpg\n",
            "2021-08-07 10:16:27,804 - INFO - downloader - skip downloading file 000047.jpg\n",
            "2021-08-07 10:16:27,806 - INFO - downloader - skip downloading file 000048.jpg\n",
            "2021-08-07 10:16:27,808 - INFO - downloader - skip downloading file 000049.jpg\n",
            "2021-08-07 10:16:27,810 - INFO - downloader - skip downloading file 000050.jpg\n",
            "2021-08-07 10:16:27,812 - INFO - downloader - skip downloading file 000051.jpg\n",
            "2021-08-07 10:16:27,814 - INFO - downloader - skip downloading file 000052.jpg\n",
            "2021-08-07 10:16:28,009 - INFO - parser - parsing result page https://www.bing.com/images/async?q=猫&first=40\n",
            "2021-08-07 10:16:28,028 - INFO - downloader - skip downloading file 000053.jpg\n",
            "2021-08-07 10:16:28,030 - INFO - downloader - skip downloading file 000054.jpg\n",
            "2021-08-07 10:16:28,032 - INFO - downloader - skip downloading file 000055.jpg\n",
            "2021-08-07 10:16:28,034 - INFO - downloader - skip downloading file 000056.jpg\n",
            "2021-08-07 10:16:28,036 - INFO - downloader - skip downloading file 000057.jpg\n",
            "2021-08-07 10:16:28,038 - INFO - downloader - skip downloading file 000058.jpg\n",
            "2021-08-07 10:16:28,040 - INFO - downloader - skip downloading file 000059.jpg\n",
            "2021-08-07 10:16:28,042 - INFO - downloader - skip downloading file 000060.jpg\n",
            "2021-08-07 10:16:28,045 - INFO - downloader - skip downloading file 000061.jpg\n",
            "2021-08-07 10:16:28,048 - INFO - downloader - skip downloading file 000062.jpg\n",
            "2021-08-07 10:16:28,051 - INFO - downloader - skip downloading file 000063.jpg\n",
            "2021-08-07 10:16:28,053 - INFO - downloader - skip downloading file 000064.jpg\n",
            "2021-08-07 10:16:28,054 - INFO - downloader - skip downloading file 000065.jpg\n",
            "2021-08-07 10:16:28,263 - INFO - parser - parsing result page https://www.bing.com/images/async?q=猫&first=60\n",
            "2021-08-07 10:16:28,405 - INFO - downloader - image #66\thttp://i0.hdslb.com/bfs/archive/0d35cb4b0d702de4638b2999ae3bf03fc18be8a9.jpg\n",
            "2021-08-07 10:16:34,143 - ERROR - downloader - Exception caught when downloading file https://img.zcool.cn/community/01114156ff4cc36ac7257948b5fad8.jpg, error: HTTPSConnectionPool(host='img.zcool.cn', port=443): Read timed out. (read timeout=5), remaining retry times: 2\n",
            "2021-08-07 10:16:40,042 - ERROR - downloader - Exception caught when downloading file https://img.zcool.cn/community/01114156ff4cc36ac7257948b5fad8.jpg, error: HTTPSConnectionPool(host='img.zcool.cn', port=443): Read timed out. (read timeout=5), remaining retry times: 1\n",
            "2021-08-07 10:16:45,317 - ERROR - downloader - Exception caught when downloading file https://img.zcool.cn/community/01114156ff4cc36ac7257948b5fad8.jpg, error: HTTPSConnectionPool(host='img.zcool.cn', port=443): Read timed out. (read timeout=5), remaining retry times: 0\n",
            "2021-08-07 10:16:46,376 - INFO - downloader - image #67\thttp://picture.ik123.com/uploads/allimg/151202/3-151202111225.jpg\n",
            "2021-08-07 10:16:49,527 - INFO - downloader - image #68\thttps://img.zcool.cn/community/0180645d4e305fa80120695cc6e040.jpg\n",
            "2021-08-07 10:16:50,404 - INFO - downloader - image #69\thttps://img.zcool.cn/community/01807f5da6c350a8012163ba8a2185.jpg\n",
            "2021-08-07 10:16:50,633 - INFO - parser - parsing result page https://www.bing.com/images/async?q=猫&first=80\n",
            "2021-08-07 10:16:51,099 - INFO - downloader - image #70\thttps://img.zcool.cn/community/01ed745d391668a80120695c6d207d.jpg\n",
            "2021-08-07 10:16:51,632 - INFO - downloader - image #71\thttps://img.zcool.cn/community/01214e5d567183a80120695c532886.jpg\n",
            "2021-08-07 10:16:52,431 - INFO - downloader - image #72\thttps://pic2.zhimg.com/v2-10f9151b01f511a71ae59ee069e8c76f_r.jpg\n",
            "2021-08-07 10:16:52,899 - INFO - downloader - image #73\thttps://pic4.zhimg.com/v2-ae9128beadc9a6121d50bbfa87d1d44d_r.jpg\n",
            "2021-08-07 10:16:53,769 - INFO - downloader - image #74\thttps://img.zcool.cn/community/0189265d65f11ea8012187f4a57467.jpg\n",
            "2021-08-07 10:16:54,665 - INFO - downloader - image #75\thttp://www.ghostw7.com/uploadslxy/allimg/160124/1954403033-2.jpg\n",
            "2021-08-07 10:16:57,489 - INFO - downloader - image #76\thttps://img.zcool.cn/community/0125ed5568d24c000001271698e8bb.jpg\n",
            "2021-08-07 10:16:58,122 - INFO - downloader - image #77\thttps://pic2.zhimg.com/v2-0b39a8f18f16e7c8559f3f06d51a5d36_r.jpg\n",
            "2021-08-07 10:16:58,835 - INFO - downloader - image #78\thttps://img.zcool.cn/community/018e2c5d10d279a801213ec2da07f4.jpg\n",
            "2021-08-07 10:16:59,730 - INFO - downloader - image #79\thttps://img.zcool.cn/community/01b9675d39166aa80120695c48d1ff.jpg\n",
            "2021-08-07 10:17:00,432 - INFO - downloader - image #80\thttps://img.zcool.cn/community/01a44d5d3920a2a80120695cfbe450.jpg\n",
            "2021-08-07 10:17:03,234 - INFO - downloader - image #81\thttp://img.ivsky.com/img/tupian/pre/201411/13/maine_coon-013.jpg\n",
            "2021-08-07 10:17:04,031 - INFO - downloader - image #82\thttps://pic1.zhimg.com/v2-ae4d918a1b5311bc44465c6efc808eac_r.jpg\n",
            "2021-08-07 10:17:04,727 - INFO - downloader - image #83\thttps://img.zcool.cn/community/0117b85d3920a0a80120695c254a2f.jpg\n",
            "2021-08-07 10:17:06,039 - INFO - parser - no more page urls for thread parser-001 to parse\n",
            "2021-08-07 10:17:06,040 - INFO - parser - thread parser-001 exit\n",
            "2021-08-07 10:17:06,123 - INFO - downloader - image #84\thttp://www.baobeita.com/upload/image/product/202003/10647300/553491c3-5547-4df3-8abc-a70ac0f4b506-large.jpg\n",
            "2021-08-07 10:17:06,163 - INFO - downloader - image #85\thttp://i0.hdslb.com/bfs/archive/a5ba8594cfb3a840996f7d148a81fc7d0a5caf8c.jpg\n",
            "2021-08-07 10:17:06,239 - INFO - downloader - image #86\thttps://pic4.zhimg.com/v2-f6270727c08c1e47037d1cd19b935eba_r.jpg\n",
            "2021-08-07 10:17:06,494 - INFO - downloader - image #87\thttp://www.baobeita.com/upload/image/product/201904/10432200/8478dc5f-8515-4700-b534-45ebc482d82d-large.jpg\n",
            "2021-08-07 10:17:07,907 - INFO - downloader - image #88\thttp://img.boqiicdn.com/Data/BK/A/1602/19/imagick75101455871810_y.jpg\n",
            "2021-08-07 10:17:12,913 - INFO - downloader - no more download task for thread downloader-001\n",
            "2021-08-07 10:17:12,914 - INFO - downloader - thread downloader-001 exit\n",
            "2021-08-07 10:17:13,533 - INFO - icrawler.crawler - Crawling task done!\n"
          ],
          "name": "stderr"
        }
      ]
    },
    {
      "cell_type": "code",
      "metadata": {
        "colab": {
          "base_uri": "https://localhost:8080/"
        },
        "id": "QJwdcZveAgwH",
        "outputId": "f6deb88f-59d3-46d5-c517-3fd65c06a55d"
      },
      "source": [
        "from icrawler.builtin import BingImageCrawler\n",
        "\n",
        "# 犬の画像を100枚取得\n",
        "crawler = BingImageCrawler(storage={\"root_dir\": \"drive/MyDrive/KK_proto/images/dog\"})\n",
        "crawler.crawl(keyword=\"犬\", max_num=100)"
      ],
      "execution_count": 4,
      "outputs": [
        {
          "output_type": "stream",
          "text": [
            "2021-08-07 10:17:13,551 - INFO - icrawler.crawler - start crawling...\n",
            "2021-08-07 10:17:13,551 - INFO - icrawler.crawler - starting 1 feeder threads...\n",
            "2021-08-07 10:17:13,553 - INFO - feeder - thread feeder-001 exit\n",
            "2021-08-07 10:17:13,554 - INFO - icrawler.crawler - starting 1 parser threads...\n",
            "2021-08-07 10:17:13,559 - INFO - icrawler.crawler - starting 1 downloader threads...\n",
            "2021-08-07 10:17:13,860 - INFO - parser - parsing result page https://www.bing.com/images/async?q=犬&first=0\n",
            "2021-08-07 10:17:13,876 - INFO - downloader - skip downloading file 000001.jpg\n",
            "2021-08-07 10:17:13,878 - INFO - downloader - skip downloading file 000002.jpg\n",
            "2021-08-07 10:17:13,879 - INFO - downloader - skip downloading file 000003.jpg\n",
            "2021-08-07 10:17:13,882 - INFO - downloader - skip downloading file 000004.jpg\n",
            "2021-08-07 10:17:13,884 - INFO - downloader - skip downloading file 000005.jpg\n",
            "2021-08-07 10:17:13,885 - INFO - downloader - skip downloading file 000006.jpg\n",
            "2021-08-07 10:17:13,889 - INFO - downloader - skip downloading file 000007.jpg\n",
            "2021-08-07 10:17:13,890 - INFO - downloader - skip downloading file 000008.jpg\n",
            "2021-08-07 10:17:13,892 - INFO - downloader - skip downloading file 000009.jpg\n",
            "2021-08-07 10:17:13,894 - INFO - downloader - skip downloading file 000010.jpg\n",
            "2021-08-07 10:17:13,895 - INFO - downloader - skip downloading file 000011.jpg\n",
            "2021-08-07 10:17:13,898 - INFO - downloader - skip downloading file 000012.jpg\n",
            "2021-08-07 10:17:13,899 - INFO - downloader - skip downloading file 000013.jpg\n",
            "2021-08-07 10:17:13,901 - INFO - downloader - skip downloading file 000014.jpg\n",
            "2021-08-07 10:17:13,903 - INFO - downloader - skip downloading file 000015.jpg\n",
            "2021-08-07 10:17:13,905 - INFO - downloader - skip downloading file 000016.jpg\n",
            "2021-08-07 10:17:13,907 - INFO - downloader - skip downloading file 000017.jpg\n",
            "2021-08-07 10:17:13,909 - INFO - downloader - skip downloading file 000018.jpg\n",
            "2021-08-07 10:17:13,913 - INFO - downloader - skip downloading file 000019.jpg\n",
            "2021-08-07 10:17:13,916 - INFO - downloader - skip downloading file 000020.jpg\n",
            "2021-08-07 10:17:13,920 - INFO - downloader - skip downloading file 000021.jpg\n",
            "2021-08-07 10:17:13,922 - INFO - downloader - skip downloading file 000022.jpg\n",
            "2021-08-07 10:17:13,924 - INFO - downloader - skip downloading file 000023.jpg\n",
            "2021-08-07 10:17:13,926 - INFO - downloader - skip downloading file 000024.jpg\n",
            "2021-08-07 10:17:13,930 - INFO - downloader - skip downloading file 000025.jpg\n",
            "2021-08-07 10:17:13,931 - INFO - downloader - skip downloading file 000026.jpg\n",
            "2021-08-07 10:17:13,933 - INFO - downloader - skip downloading file 000027.jpg\n",
            "2021-08-07 10:17:13,935 - INFO - downloader - skip downloading file 000028.jpg\n",
            "2021-08-07 10:17:13,936 - INFO - downloader - skip downloading file 000029.jpg\n",
            "2021-08-07 10:17:13,938 - INFO - downloader - skip downloading file 000030.jpg\n",
            "2021-08-07 10:17:14,153 - INFO - parser - parsing result page https://www.bing.com/images/async?q=犬&first=20\n",
            "2021-08-07 10:17:14,166 - INFO - downloader - skip downloading file 000031.jpg\n",
            "2021-08-07 10:17:14,168 - INFO - downloader - skip downloading file 000032.jpg\n",
            "2021-08-07 10:17:14,169 - INFO - downloader - skip downloading file 000033.jpg\n",
            "2021-08-07 10:17:14,171 - INFO - downloader - skip downloading file 000034.jpg\n",
            "2021-08-07 10:17:14,174 - INFO - downloader - skip downloading file 000035.jpg\n",
            "2021-08-07 10:17:14,175 - INFO - downloader - skip downloading file 000036.jpg\n",
            "2021-08-07 10:17:14,177 - INFO - downloader - skip downloading file 000037.jpg\n",
            "2021-08-07 10:17:14,178 - INFO - downloader - skip downloading file 000038.jpg\n",
            "2021-08-07 10:17:14,181 - INFO - downloader - skip downloading file 000039.jpg\n",
            "2021-08-07 10:17:14,183 - INFO - downloader - skip downloading file 000040.jpg\n",
            "2021-08-07 10:17:14,185 - INFO - downloader - skip downloading file 000041.jpg\n",
            "2021-08-07 10:17:14,189 - INFO - downloader - skip downloading file 000042.jpg\n",
            "2021-08-07 10:17:14,190 - INFO - downloader - skip downloading file 000043.jpg\n",
            "2021-08-07 10:17:14,192 - INFO - downloader - skip downloading file 000044.jpg\n",
            "2021-08-07 10:17:14,194 - INFO - downloader - skip downloading file 000045.jpg\n",
            "2021-08-07 10:17:14,195 - INFO - downloader - skip downloading file 000046.jpg\n",
            "2021-08-07 10:17:14,197 - INFO - downloader - skip downloading file 000047.jpg\n",
            "2021-08-07 10:17:14,408 - INFO - parser - parsing result page https://www.bing.com/images/async?q=犬&first=40\n",
            "2021-08-07 10:17:14,422 - INFO - downloader - skip downloading file 000048.jpg\n",
            "2021-08-07 10:17:14,424 - INFO - downloader - skip downloading file 000049.jpg\n",
            "2021-08-07 10:17:14,426 - INFO - downloader - skip downloading file 000050.jpg\n",
            "2021-08-07 10:17:14,428 - INFO - downloader - skip downloading file 000051.jpg\n",
            "2021-08-07 10:17:14,430 - INFO - downloader - skip downloading file 000052.jpg\n",
            "2021-08-07 10:17:14,431 - INFO - downloader - skip downloading file 000053.jpg\n",
            "2021-08-07 10:17:14,433 - INFO - downloader - skip downloading file 000054.jpg\n",
            "2021-08-07 10:17:14,437 - INFO - downloader - skip downloading file 000055.jpg\n",
            "2021-08-07 10:17:14,439 - INFO - downloader - skip downloading file 000056.jpg\n",
            "2021-08-07 10:17:14,441 - INFO - downloader - skip downloading file 000057.jpg\n",
            "2021-08-07 10:17:14,442 - INFO - downloader - skip downloading file 000058.jpg\n",
            "2021-08-07 10:17:14,444 - INFO - downloader - skip downloading file 000059.jpg\n",
            "2021-08-07 10:17:14,447 - INFO - downloader - skip downloading file 000060.jpg\n",
            "2021-08-07 10:17:14,449 - INFO - downloader - skip downloading file 000061.jpg\n",
            "2021-08-07 10:17:14,452 - INFO - downloader - skip downloading file 000062.jpg\n",
            "2021-08-07 10:17:14,454 - INFO - downloader - skip downloading file 000063.jpg\n",
            "2021-08-07 10:17:14,455 - INFO - downloader - skip downloading file 000064.jpg\n",
            "2021-08-07 10:17:14,457 - INFO - downloader - skip downloading file 000065.jpg\n",
            "2021-08-07 10:17:14,459 - INFO - downloader - skip downloading file 000066.jpg\n",
            "2021-08-07 10:17:14,653 - INFO - parser - parsing result page https://www.bing.com/images/async?q=犬&first=60\n",
            "2021-08-07 10:17:14,668 - INFO - downloader - skip downloading file 000067.jpg\n",
            "2021-08-07 10:17:14,669 - INFO - downloader - skip downloading file 000068.jpg\n",
            "2021-08-07 10:17:14,671 - INFO - downloader - skip downloading file 000069.jpg\n",
            "2021-08-07 10:17:14,673 - INFO - downloader - skip downloading file 000070.jpg\n",
            "2021-08-07 10:17:15,367 - INFO - downloader - image #71\thttp://stat.ameba.jp/user_images/20141225/00/omuta-animal/38/a9/j/o0720128013168695292.jpg\n",
            "2021-08-07 10:17:15,538 - INFO - downloader - image #72\thttp://blogimg.goo.ne.jp/user_image/07/28/7f994f59d7f0ed55815469e260e15194.jpg\n",
            "2021-08-07 10:17:15,623 - INFO - downloader - image #73\thttps://stat.ameba.jp/user_images/20130117/04/tsunehisa-okiyama/9f/ef/j/o0640048012380295360.jpg\n",
            "2021-08-07 10:17:16,722 - INFO - downloader - image #74\thttps://koinunomado.com/breeders_data/12347/img_p/12347_11004_1.jpg\n",
            "2021-08-07 10:17:17,665 - INFO - downloader - image #75\thttps://stat.ameba.jp/user_images/20170218/14/peacenyanko-hakodate/25/24/j/o1920256013871450972.jpg\n",
            "2021-08-07 10:17:17,791 - INFO - downloader - image #76\thttps://image.pet-home.jp/user_file/2020/08/26/225834.jpg\n",
            "2021-08-07 10:17:18,505 - INFO - downloader - image #77\thttps://ikiikiikimono.com/wp-content/uploads/2018/12/IMG_0028-768x1024.jpg\n",
            "2021-08-07 10:17:18,717 - INFO - parser - parsing result page https://www.bing.com/images/async?q=犬&first=80\n",
            "2021-08-07 10:17:19,142 - INFO - downloader - image #78\thttps://lostpet.jp/media/u0igyj.jpg\n",
            "2021-08-07 10:17:19,161 - INFO - downloader - image #79\thttp://blogimg.goo.ne.jp/user_image/0f/dc/34067d0eced8f72fdcc40c977249b4ea.jpg\n",
            "2021-08-07 10:17:19,276 - INFO - downloader - image #80\thttps://cdn.amebaowndme.com/madrid-prd/madrid-web/images/sites/217370/6ee82ac1ab94ef2981a144fa8801bb10_c442aa5887b7935c4c1cfc75fc721daf.jpg\n",
            "2021-08-07 10:17:20,110 - INFO - downloader - image #81\thttps://www.kdp-satooya.org/wp-content/uploads/2016/02/12696708_935610133212758_1438888738_o.jpg\n",
            "2021-08-07 10:17:20,150 - INFO - downloader - image #82\thttp://stat.ameba.jp/user_images/20150620/17/happy-smile-2014/47/ea/j/o0480064013342711517.jpg\n",
            "2021-08-07 10:17:20,191 - INFO - downloader - image #83\thttps://stat.ameba.jp/user_images/20191221/22/syuna-nattou/fe/c9/j/o1082151314682690583.jpg\n",
            "2021-08-07 10:17:20,674 - INFO - downloader - image #84\thttps://lostpet.jp/media/u0it2808o.jpg\n",
            "2021-08-07 10:17:20,707 - INFO - downloader - image #85\thttps://stat.ameba.jp/user_images/20190304/20/macontact/86/84/j/o0800080014366368467.jpg\n",
            "2021-08-07 10:17:21,920 - INFO - downloader - image #86\thttps://koinu-hanbai.com/wp-content/uploads/IMG_9189-e1491042499112.jpg\n",
            "2021-08-07 10:17:22,084 - INFO - downloader - image #87\thttps://akita.min-breeder.com/breeder/data/hachikotakasaki/dog_img_1_954ca99c40f3.jpg\n",
            "2021-08-07 10:17:22,121 - INFO - downloader - image #88\thttps://stat.ameba.jp/user_images/20190521/08/matmm622/89/9c/j/o0809108014413629497.jpg\n",
            "2021-08-07 10:17:22,254 - ERROR - downloader - Exception caught when downloading file https://image-ikimonoaz.ikimonopal.jp/user/286/286/media/7/b442e83a5556fa523514fdf47e8e4e1b.jpg, error: HTTPSConnectionPool(host='image-ikimonoaz.ikimonopal.jp', port=443): Max retries exceeded with url: /user/286/286/media/7/b442e83a5556fa523514fdf47e8e4e1b.jpg (Caused by NewConnectionError('<urllib3.connection.VerifiedHTTPSConnection object at 0x7f7b8b116110>: Failed to establish a new connection: [Errno -2] Name or service not known')), remaining retry times: 2\n",
            "2021-08-07 10:17:22,259 - ERROR - downloader - Exception caught when downloading file https://image-ikimonoaz.ikimonopal.jp/user/286/286/media/7/b442e83a5556fa523514fdf47e8e4e1b.jpg, error: HTTPSConnectionPool(host='image-ikimonoaz.ikimonopal.jp', port=443): Max retries exceeded with url: /user/286/286/media/7/b442e83a5556fa523514fdf47e8e4e1b.jpg (Caused by NewConnectionError('<urllib3.connection.VerifiedHTTPSConnection object at 0x7f7b8b15edd0>: Failed to establish a new connection: [Errno -2] Name or service not known')), remaining retry times: 1\n",
            "2021-08-07 10:17:22,263 - ERROR - downloader - Exception caught when downloading file https://image-ikimonoaz.ikimonopal.jp/user/286/286/media/7/b442e83a5556fa523514fdf47e8e4e1b.jpg, error: HTTPSConnectionPool(host='image-ikimonoaz.ikimonopal.jp', port=443): Max retries exceeded with url: /user/286/286/media/7/b442e83a5556fa523514fdf47e8e4e1b.jpg (Caused by NewConnectionError('<urllib3.connection.VerifiedHTTPSConnection object at 0x7f7b8b168b90>: Failed to establish a new connection: [Errno -2] Name or service not known')), remaining retry times: 0\n",
            "/usr/local/lib/python3.7/dist-packages/PIL/TiffImagePlugin.py:788: UserWarning: Corrupt EXIF data.  Expecting to read 4 bytes but only got 2. \n",
            "  warnings.warn(str(msg))\n",
            "2021-08-07 10:17:22,301 - INFO - downloader - image #89\thttps://stat.ameba.jp/user_images/20161113/18/juntomotomo/75/36/j/o0480064013797000214.jpg\n",
            "2021-08-07 10:17:22,479 - INFO - downloader - image #90\thttps://cdn-ak.f.st-hatena.com/images/fotolife/t/toxic-chia/20180228/20180228173553.jpg\n",
            "2021-08-07 10:17:22,753 - INFO - downloader - image #91\thttps://stat.ameba.jp/user_images/20181220/15/ikurakkuma-0726/89/02/j/o1080108014324006167.jpg\n",
            "2021-08-07 10:17:24,713 - INFO - parser - no more page urls for thread parser-001 to parse\n",
            "2021-08-07 10:17:24,714 - INFO - parser - thread parser-001 exit\n",
            "2021-08-07 10:17:27,759 - INFO - downloader - no more download task for thread downloader-001\n",
            "2021-08-07 10:17:27,760 - INFO - downloader - thread downloader-001 exit\n",
            "2021-08-07 10:17:28,576 - INFO - icrawler.crawler - Crawling task done!\n"
          ],
          "name": "stderr"
        }
      ]
    },
    {
      "cell_type": "markdown",
      "metadata": {
        "id": "Z2sGa_NQECat"
      },
      "source": [
        "#データの整形と学習データの作成"
      ]
    },
    {
      "cell_type": "code",
      "metadata": {
        "colab": {
          "base_uri": "https://localhost:8080/"
        },
        "id": "l5pllrHQBa3v",
        "outputId": "bc57eb4c-cbaf-465a-a130-9b64638137d8"
      },
      "source": [
        "from PIL import Image\n",
        "import os, glob\n",
        "import numpy as np\n",
        "from PIL import ImageFile\n",
        "# IOError: image file is truncated (0 bytes not processed)回避のため\n",
        "ImageFile.LOAD_TRUNCATED_IMAGES = True\n",
        "\n",
        "classes = [\"dog\", \"cat\"]\n",
        "num_classes = len(classes)\n",
        "image_size = 64\n",
        "num_testdata = 25\n",
        "\n",
        "X_train = []\n",
        "X_test  = []\n",
        "y_train = []\n",
        "y_test  = []\n",
        "\n",
        "for index, classlabel in enumerate(classes):\n",
        "    photos_dir = \"drive/MyDrive/KK_proto/images/\" + classlabel\n",
        "    files = glob.glob(photos_dir + \"/*.jpg\")\n",
        "    for i, file in enumerate(files):\n",
        "        image = Image.open(file)\n",
        "        image = image.convert(\"RGB\")\n",
        "        image = image.resize((image_size, image_size))\n",
        "        data = np.asarray(image)\n",
        "        if i < num_testdata:\n",
        "            X_test.append(data)\n",
        "            y_test.append(index)\n",
        "        else:\n",
        "\n",
        "            # angleに代入される値\n",
        "            # -20\n",
        "            # -15\n",
        "            # -10\n",
        "            #  -5\n",
        "            # 0\n",
        "            # 5\n",
        "            # 10\n",
        "            # 15\n",
        "            # 画像を5度ずつ回転\n",
        "            for angle in range(-20, 20, 5):\n",
        "\n",
        "                img_r = image.rotate(angle)\n",
        "                data = np.asarray(img_r)\n",
        "                X_train.append(data)\n",
        "                y_train.append(index)\n",
        "                # FLIP_LEFT_RIGHT　は 左右反転\n",
        "                img_trains = img_r.transpose(Image.FLIP_LEFT_RIGHT)\n",
        "                data = np.asarray(img_trains)\n",
        "                X_train.append(data)\n",
        "                y_train.append(index)\n",
        "\n",
        "X_train = np.array(X_train)\n",
        "X_test  = np.array(X_test)\n",
        "y_train = np.array(y_train)\n",
        "y_test  = np.array(y_test)\n",
        "\n",
        "xy = (X_train, X_test, y_train, y_test)\n",
        "np.save(\"./dog_cat.npy\", xy)"
      ],
      "execution_count": 5,
      "outputs": [
        {
          "output_type": "stream",
          "text": [
            "/usr/local/lib/python3.7/dist-packages/PIL/TiffImagePlugin.py:788: UserWarning: Corrupt EXIF data.  Expecting to read 4 bytes but only got 2. \n",
            "  warnings.warn(str(msg))\n",
            "/usr/local/lib/python3.7/dist-packages/numpy/core/_asarray.py:136: VisibleDeprecationWarning: Creating an ndarray from ragged nested sequences (which is a list-or-tuple of lists-or-tuples-or ndarrays with different lengths or shapes) is deprecated. If you meant to do this, you must specify 'dtype=object' when creating the ndarray\n",
            "  return array(a, dtype, copy=False, order=order, subok=True)\n"
          ],
          "name": "stderr"
        }
      ]
    },
    {
      "cell_type": "markdown",
      "metadata": {
        "id": "UPy_AQg_FCtC"
      },
      "source": [
        "#学習フェーズ"
      ]
    },
    {
      "cell_type": "code",
      "metadata": {
        "colab": {
          "base_uri": "https://localhost:8080/"
        },
        "id": "L_yv3mARE46F",
        "outputId": "f540d311-7b4b-46b1-da71-e5dbd9a3f045"
      },
      "source": [
        "from keras.models import Sequential\n",
        "from keras.layers import Conv2D, MaxPooling2D\n",
        "from keras.layers import Activation, Dropout, Flatten, Dense\n",
        "from keras.optimizers import RMSprop\n",
        "from keras.utils import np_utils\n",
        "import keras\n",
        "import numpy as np\n",
        "\n",
        "classes = [\"dog\", \"cat\"]\n",
        "num_classes = len(classes)\n",
        "image_size = 64\n",
        "\n",
        "\"\"\"\n",
        "データを読み込む関数\n",
        "\"\"\"\n",
        "def load_data():\n",
        "    X_train, X_test, y_train, y_test = np.load(\"./dog_cat.npy\", allow_pickle=True)\n",
        "    # 入力データの各画素値を0-1の範囲で正規化(学習コストを下げるため)\n",
        "    X_train = X_train.astype(\"float\") / 255\n",
        "    X_test  = X_test.astype(\"float\") / 255\n",
        "    # to_categorical()にてラベルをone hot vector化\n",
        "    y_train = np_utils.to_categorical(y_train, num_classes)\n",
        "    y_test  = np_utils.to_categorical(y_test, num_classes)\n",
        "\n",
        "    return X_train, y_train, X_test, y_test\n",
        "\n",
        "\"\"\"\n",
        "モデルを学習する関数\n",
        "\"\"\"\n",
        "def train(X, y, X_test, y_test):\n",
        "    model = Sequential()\n",
        "\n",
        "    # Xは(1200, 64, 64, 3)\n",
        "    # X.shape[1:]とすることで、(64, 64, 3)となり、入力にすることが可能です。\n",
        "    model.add(Conv2D(32,(3,3), padding='same',input_shape=X.shape[1:]))\n",
        "    model.add(Activation('relu'))\n",
        "    model.add(Conv2D(32,(3,3)))\n",
        "    model.add(Activation('relu'))\n",
        "    model.add(MaxPooling2D(pool_size=(2,2)))\n",
        "    model.add(Dropout(0.1))\n",
        "\n",
        "    model.add(Conv2D(64,(3,3), padding='same'))\n",
        "    model.add(Activation('relu'))\n",
        "    model.add(Conv2D(64,(3,3)))\n",
        "    model.add(Activation('relu'))\n",
        "    model.add(MaxPooling2D(pool_size=(2,2)))\n",
        "    model.add(Dropout(0.25))\n",
        "\n",
        "    model.add(Flatten())\n",
        "    model.add(Dense(512))\n",
        "    model.add(Activation('relu'))\n",
        "    model.add(Dropout(0.45))\n",
        "    model.add(Dense(2))\n",
        "    model.add(Activation('softmax'))\n",
        "\n",
        "    # https://keras.io/ja/optimizers/\n",
        "    # 今回は、最適化アルゴリズムにRMSpropを利用\n",
        "    opt = RMSprop(lr=0.00005, decay=1e-6)\n",
        "    # https://keras.io/ja/models/sequential/\n",
        "    model.compile(loss='categorical_crossentropy',optimizer=opt,metrics=['accuracy'])\n",
        "    model.fit(X, y, batch_size=28, epochs=40)\n",
        "    # HDF5ファイルにKerasのモデルを保存\n",
        "    model.save('./cnn.h5')\n",
        "\n",
        "    return model\n",
        "\n",
        "\"\"\"\n",
        "メイン関数\n",
        "データの読み込みとモデルの学習を行います。\n",
        "\"\"\"\n",
        "def main():\n",
        "    # データの読み込み\n",
        "    X_train, y_train, X_test, y_test = load_data()\n",
        "\n",
        "    # モデルの学習\n",
        "    model = train(X_train, y_train, X_test, y_test)\n",
        "\n",
        "main()"
      ],
      "execution_count": 6,
      "outputs": [
        {
          "output_type": "stream",
          "text": [
            "/usr/local/lib/python3.7/dist-packages/tensorflow/python/keras/optimizer_v2/optimizer_v2.py:375: UserWarning: The `lr` argument is deprecated, use `learning_rate` instead.\n",
            "  \"The `lr` argument is deprecated, use `learning_rate` instead.\")\n"
          ],
          "name": "stderr"
        },
        {
          "output_type": "stream",
          "text": [
            "Epoch 1/40\n",
            "74/74 [==============================] - 29s 9ms/step - loss: 0.6687 - accuracy: 0.5752\n",
            "Epoch 2/40\n",
            "74/74 [==============================] - 1s 8ms/step - loss: 0.6185 - accuracy: 0.6736\n",
            "Epoch 3/40\n",
            "74/74 [==============================] - 1s 8ms/step - loss: 0.5440 - accuracy: 0.7213\n",
            "Epoch 4/40\n",
            "74/74 [==============================] - 1s 8ms/step - loss: 0.4906 - accuracy: 0.7592\n",
            "Epoch 5/40\n",
            "74/74 [==============================] - 1s 8ms/step - loss: 0.4407 - accuracy: 0.8081\n",
            "Epoch 6/40\n",
            "74/74 [==============================] - 1s 8ms/step - loss: 0.4103 - accuracy: 0.8317\n",
            "Epoch 7/40\n",
            "74/74 [==============================] - 1s 8ms/step - loss: 0.3601 - accuracy: 0.8553\n",
            "Epoch 8/40\n",
            "74/74 [==============================] - 1s 7ms/step - loss: 0.3222 - accuracy: 0.8875\n",
            "Epoch 9/40\n",
            "74/74 [==============================] - 1s 8ms/step - loss: 0.2784 - accuracy: 0.9101\n",
            "Epoch 10/40\n",
            "74/74 [==============================] - 1s 8ms/step - loss: 0.2418 - accuracy: 0.9260\n",
            "Epoch 11/40\n",
            "74/74 [==============================] - 1s 8ms/step - loss: 0.2267 - accuracy: 0.9342\n",
            "Epoch 12/40\n",
            "74/74 [==============================] - 1s 8ms/step - loss: 0.2205 - accuracy: 0.9214\n",
            "Epoch 13/40\n",
            "74/74 [==============================] - 1s 8ms/step - loss: 0.1793 - accuracy: 0.9443\n",
            "Epoch 14/40\n",
            "74/74 [==============================] - 1s 8ms/step - loss: 0.1637 - accuracy: 0.9536\n",
            "Epoch 15/40\n",
            "74/74 [==============================] - 1s 7ms/step - loss: 0.1475 - accuracy: 0.9598\n",
            "Epoch 16/40\n",
            "74/74 [==============================] - 1s 8ms/step - loss: 0.1283 - accuracy: 0.9653\n",
            "Epoch 17/40\n",
            "74/74 [==============================] - 1s 7ms/step - loss: 0.1079 - accuracy: 0.9707\n",
            "Epoch 18/40\n",
            "74/74 [==============================] - 1s 7ms/step - loss: 0.0843 - accuracy: 0.9803\n",
            "Epoch 19/40\n",
            "74/74 [==============================] - 1s 8ms/step - loss: 0.0733 - accuracy: 0.9835\n",
            "Epoch 20/40\n",
            "74/74 [==============================] - 1s 7ms/step - loss: 0.0727 - accuracy: 0.9782\n",
            "Epoch 21/40\n",
            "74/74 [==============================] - 1s 7ms/step - loss: 0.0598 - accuracy: 0.9907\n",
            "Epoch 22/40\n",
            "74/74 [==============================] - 1s 8ms/step - loss: 0.0493 - accuracy: 0.9892\n",
            "Epoch 23/40\n",
            "74/74 [==============================] - 1s 7ms/step - loss: 0.0415 - accuracy: 0.9913\n",
            "Epoch 24/40\n",
            "74/74 [==============================] - 1s 7ms/step - loss: 0.0422 - accuracy: 0.9899\n",
            "Epoch 25/40\n",
            "74/74 [==============================] - 1s 8ms/step - loss: 0.0369 - accuracy: 0.9899\n",
            "Epoch 26/40\n",
            "74/74 [==============================] - 1s 8ms/step - loss: 0.0314 - accuracy: 0.9907\n",
            "Epoch 27/40\n",
            "74/74 [==============================] - 1s 7ms/step - loss: 0.0244 - accuracy: 0.9968\n",
            "Epoch 28/40\n",
            "74/74 [==============================] - 1s 8ms/step - loss: 0.0198 - accuracy: 0.9946\n",
            "Epoch 29/40\n",
            "74/74 [==============================] - 1s 8ms/step - loss: 0.0175 - accuracy: 0.9959\n",
            "Epoch 30/40\n",
            "74/74 [==============================] - 1s 8ms/step - loss: 0.0193 - accuracy: 0.9926\n",
            "Epoch 31/40\n",
            "74/74 [==============================] - 1s 8ms/step - loss: 0.0151 - accuracy: 0.9963\n",
            "Epoch 32/40\n",
            "74/74 [==============================] - 1s 8ms/step - loss: 0.0266 - accuracy: 0.9940\n",
            "Epoch 33/40\n",
            "74/74 [==============================] - 1s 8ms/step - loss: 0.0110 - accuracy: 0.9977\n",
            "Epoch 34/40\n",
            "74/74 [==============================] - 1s 8ms/step - loss: 0.0068 - accuracy: 0.9991\n",
            "Epoch 35/40\n",
            "74/74 [==============================] - 1s 8ms/step - loss: 0.0095 - accuracy: 0.9971\n",
            "Epoch 36/40\n",
            "74/74 [==============================] - 1s 8ms/step - loss: 0.0083 - accuracy: 0.9978\n",
            "Epoch 37/40\n",
            "74/74 [==============================] - 1s 8ms/step - loss: 0.0112 - accuracy: 0.9972\n",
            "Epoch 38/40\n",
            "74/74 [==============================] - 1s 8ms/step - loss: 0.0086 - accuracy: 0.9979\n",
            "Epoch 39/40\n",
            "74/74 [==============================] - 1s 8ms/step - loss: 0.0094 - accuracy: 0.9974\n",
            "Epoch 40/40\n",
            "74/74 [==============================] - 1s 8ms/step - loss: 0.0074 - accuracy: 0.9980\n"
          ],
          "name": "stdout"
        }
      ]
    },
    {
      "cell_type": "markdown",
      "metadata": {
        "id": "6hSG4ADTIGzH"
      },
      "source": [
        "#推論モデル\n",
        "テスト画像が犬or猫のどちらかを推論するモデル"
      ]
    },
    {
      "cell_type": "code",
      "metadata": {
        "colab": {
          "resources": {
            "http://localhost:8080/nbextensions/google.colab/files.js": {
              "data": "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",
              "ok": true,
              "headers": [
                [
                  "content-type",
                  "application/javascript"
                ]
              ],
              "status": 200,
              "status_text": ""
            }
          },
          "base_uri": "https://localhost:8080/",
          "height": 113
        },
        "id": "C1gBbwAbIGLn",
        "outputId": "06d3e4d3-93f4-4ab6-dede-4f9d36bda61a"
      },
      "source": [
        "import keras\n",
        "import sys, os\n",
        "import numpy as np\n",
        "from keras.models import load_model\n",
        "\n",
        "imsize = (64, 64)\n",
        "\n",
        "\"\"\"\n",
        "dog1.jpgというファイル名の画像をGoogle Colab上にアップロードする方法は2通りあります。\n",
        "1つが、下記のコードを実行し画像をアップロードする方法\n",
        "from google.colab import files\n",
        "uploaded = files.upload()\n",
        "2つが、Colab左メニューの>アイコンを押して、目次、コード スニペット、ファイル\n",
        "の3つ表示されるますが、右のファイルタブから画像をアップロードする方法です。\n",
        "このファイルタブをクリックするとアップロードと更新の2つがありますが、\n",
        "アップロードを押すと画像をアップロードすることが可能です。\n",
        "\"\"\"\n",
        "\n",
        "testpic     = \"./dog1.jpg\"\n",
        "keras_param = \"./cnn.h5\"\n",
        "\n",
        "def load_image(path):\n",
        "    img = Image.open(path)\n",
        "    img = img.convert('RGB')\n",
        "    # 学習時に、(64, 64, 3)で学習したので、画像の縦・横は今回 変数imsizeの(64, 64)にリサイズします。\n",
        "    img = img.resize(imsize)\n",
        "    # 画像データをnumpy配列の形式に変更\n",
        "    img = np.asarray(img)\n",
        "    img = img / 255.0\n",
        "    return img\n",
        "\n",
        "from google.colab import files\n",
        "uploaded = files.upload()\n",
        "\n",
        "model = load_model(keras_param)\n",
        "img = load_image(testpic)\n",
        "prd = model.predict(np.array([img]))\n",
        "print(prd) # 精度の表示\n",
        "prelabel = np.argmax(prd, axis=1)\n",
        "if prelabel == 0:\n",
        "    print(\">>> 犬\")\n",
        "elif prelabel == 1:\n",
        "    print(\">>> 猫\")"
      ],
      "execution_count": 7,
      "outputs": [
        {
          "output_type": "display_data",
          "data": {
            "text/html": [
              "\n",
              "     <input type=\"file\" id=\"files-3f884aa5-99eb-44cd-97fb-de31ffd12891\" name=\"files[]\" multiple disabled\n",
              "        style=\"border:none\" />\n",
              "     <output id=\"result-3f884aa5-99eb-44cd-97fb-de31ffd12891\">\n",
              "      Upload widget is only available when the cell has been executed in the\n",
              "      current browser session. Please rerun this cell to enable.\n",
              "      </output>\n",
              "      <script src=\"/nbextensions/google.colab/files.js\"></script> "
            ],
            "text/plain": [
              "<IPython.core.display.HTML object>"
            ]
          },
          "metadata": {
            "tags": []
          }
        },
        {
          "output_type": "stream",
          "text": [
            "Saving dog1.jpg to dog1.jpg\n",
            "[[9.995609e-01 4.391366e-04]]\n",
            ">>> 犬\n"
          ],
          "name": "stdout"
        }
      ]
    },
    {
      "cell_type": "code",
      "metadata": {
        "id": "x7ks2WPhJH5-"
      },
      "source": [
        ""
      ],
      "execution_count": null,
      "outputs": []
    }
  ]
}