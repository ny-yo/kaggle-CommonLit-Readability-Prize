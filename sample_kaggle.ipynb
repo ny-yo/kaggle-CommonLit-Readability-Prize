{
  "nbformat": 4,
  "nbformat_minor": 0,
  "metadata": {
    "colab": {
      "name": "sample_kaggle.ipynb",
      "provenance": [],
      "machine_shape": "hm",
      "mount_file_id": "1Y6Ct_rL8eKlji6qkJ8tmGBiuuri2BlkW",
      "authorship_tag": "ABX9TyMQY4QwjitS0uJLSElkkKhQ",
      "include_colab_link": true
    },
    "kernelspec": {
      "name": "python3",
      "display_name": "Python 3"
    },
    "language_info": {
      "name": "python"
    },
    "accelerator": "GPU"
  },
  "cells": [
    {
      "cell_type": "markdown",
      "metadata": {
        "id": "view-in-github",
        "colab_type": "text"
      },
      "source": [
        "<a href=\"https://colab.research.google.com/github/ny-yo/kaggle-CommonLit-Readability-Prize/blob/main/sample_kaggle.ipynb\" target=\"_parent\"><img src=\"https://colab.research.google.com/assets/colab-badge.svg\" alt=\"Open In Colab\"/></a>"
      ]
    },
    {
      "cell_type": "code",
      "metadata": {
        "colab": {
          "base_uri": "https://localhost:8080/"
        },
        "id": "qiOxw24m3eXR",
        "outputId": "5b56c4be-dd23-4ffb-c16d-e0419468f3e6"
      },
      "source": [
        "!pip install kaggle"
      ],
      "execution_count": 1,
      "outputs": [
        {
          "output_type": "stream",
          "text": [
            "Requirement already satisfied: kaggle in /usr/local/lib/python3.7/dist-packages (1.5.12)\n",
            "Requirement already satisfied: python-dateutil in /usr/local/lib/python3.7/dist-packages (from kaggle) (2.8.1)\n",
            "Requirement already satisfied: tqdm in /usr/local/lib/python3.7/dist-packages (from kaggle) (4.41.1)\n",
            "Requirement already satisfied: urllib3 in /usr/local/lib/python3.7/dist-packages (from kaggle) (1.24.3)\n",
            "Requirement already satisfied: certifi in /usr/local/lib/python3.7/dist-packages (from kaggle) (2021.5.30)\n",
            "Requirement already satisfied: requests in /usr/local/lib/python3.7/dist-packages (from kaggle) (2.23.0)\n",
            "Requirement already satisfied: six>=1.10 in /usr/local/lib/python3.7/dist-packages (from kaggle) (1.15.0)\n",
            "Requirement already satisfied: python-slugify in /usr/local/lib/python3.7/dist-packages (from kaggle) (5.0.2)\n",
            "Requirement already satisfied: chardet<4,>=3.0.2 in /usr/local/lib/python3.7/dist-packages (from requests->kaggle) (3.0.4)\n",
            "Requirement already satisfied: idna<3,>=2.5 in /usr/local/lib/python3.7/dist-packages (from requests->kaggle) (2.10)\n",
            "Requirement already satisfied: text-unidecode>=1.3 in /usr/local/lib/python3.7/dist-packages (from python-slugify->kaggle) (1.3)\n"
          ],
          "name": "stdout"
        }
      ]
    },
    {
      "cell_type": "code",
      "metadata": {
        "colab": {
          "base_uri": "https://localhost:8080/"
        },
        "id": "ARSice973ktc",
        "outputId": "b7610365-94ad-49fb-d47e-cea0ebab69e6"
      },
      "source": [
        "# download API key from google drive\n",
        "## Original: https://colab.research.google.com/drive/1eufc8aNCdjHbrBhuy7M7X6BGyzAyRbrF#scrollTo=y5_288BYp6H1\n",
        "## When you run for the first time, you will see a link to authenticate.\n",
        "\n",
        "from googleapiclient.discovery import build\n",
        "import io, os\n",
        "from googleapiclient.http import MediaIoBaseDownload\n",
        "from google.colab import auth\n",
        "\n",
        "auth.authenticate_user()\n",
        "\n",
        "drive_service = build('drive', 'v3')\n",
        "results = drive_service.files().list(\n",
        "        q=\"name = 'kaggle.json'\", fields=\"files(id)\").execute()\n",
        "kaggle_api_key = results.get('files', [])\n",
        "\n",
        "filename = \"/root/.kaggle/kaggle.json\"\n",
        "os.makedirs(os.path.dirname(filename), exist_ok=True)\n",
        "\n",
        "request = drive_service.files().get_media(fileId=kaggle_api_key[0]['id'])\n",
        "fh = io.FileIO(filename, 'wb')\n",
        "downloader = MediaIoBaseDownload(fh, request)\n",
        "done = False\n",
        "while done is False:\n",
        "    status, done = downloader.next_chunk()\n",
        "    print(\"Download %d%%.\" % int(status.progress() * 100))\n",
        "os.chmod(filename, 600)"
      ],
      "execution_count": 2,
      "outputs": [
        {
          "output_type": "stream",
          "text": [
            "Download 100%.\n"
          ],
          "name": "stdout"
        }
      ]
    },
    {
      "cell_type": "code",
      "metadata": {
        "colab": {
          "base_uri": "https://localhost:8080/"
        },
        "id": "dbuwfXs25u0z",
        "outputId": "dfe37ba6-465c-4d48-d501-f3bd112136c5"
      },
      "source": [
        "!kaggle competitions list"
      ],
      "execution_count": 3,
      "outputs": [
        {
          "output_type": "stream",
          "text": [
            "Warning: Looks like you're using an outdated API Version, please consider updating (server 1.5.12 / client 1.5.4)\n",
            "ref                                            deadline             category            reward  teamCount  userHasEntered  \n",
            "---------------------------------------------  -------------------  ---------------  ---------  ---------  --------------  \n",
            "contradictory-my-dear-watson                   2030-07-01 23:59:00  Getting Started     Prizes        188           False  \n",
            "gan-getting-started                            2030-07-01 23:59:00  Getting Started     Prizes        321           False  \n",
            "tpu-getting-started                            2030-06-03 23:59:00  Getting Started  Knowledge        936           False  \n",
            "digit-recognizer                               2030-01-01 00:00:00  Getting Started  Knowledge       5876           False  \n",
            "titanic                                        2030-01-01 00:00:00  Getting Started  Knowledge      48320            True  \n",
            "house-prices-advanced-regression-techniques    2030-01-01 00:00:00  Getting Started  Knowledge      12614            True  \n",
            "connectx                                       2030-01-01 00:00:00  Getting Started  Knowledge        950           False  \n",
            "nlp-getting-started                            2030-01-01 00:00:00  Getting Started  Knowledge       3169            True  \n",
            "competitive-data-science-predict-future-sales  2022-12-31 23:59:00  Playground           Kudos      11862            True  \n",
            "jane-street-market-prediction                  2021-08-23 23:59:00  Featured          $100,000       4245            True  \n",
            "siim-covid19-detection                         2021-08-09 23:59:00  Featured          $100,000        579           False  \n",
            "google-smartphone-decimeter-challenge          2021-08-04 23:59:00  Research           $10,000        473            True  \n",
            "commonlitreadabilityprize                      2021-08-02 23:59:00  Featured           $60,000       2198            True  \n",
            "mlb-player-digital-engagement-forecasting      2021-07-31 23:59:00  Featured           $50,000        194           False  \n",
            "seti-breakthrough-listen                       2021-07-28 23:59:00  Research           $15,000       1009           False  \n",
            "hungry-geese                                   2021-07-26 23:59:00  Playground          Prizes        744           False  \n",
            "tabular-playground-series-jun-2021             2021-06-30 23:59:00  Playground            Swag        804           False  \n",
            "coleridgeinitiative-show-us-the-data           2021-06-22 23:59:00  Featured           $90,000       1570           False  \n",
            "bms-molecular-translation                      2021-06-03 23:59:00  Featured           $50,000        874            True  \n",
            "birdclef-2021                                  2021-06-01 23:59:00  Research            $5,000        816           False  \n"
          ],
          "name": "stdout"
        }
      ]
    },
    {
      "cell_type": "code",
      "metadata": {
        "colab": {
          "base_uri": "https://localhost:8080/"
        },
        "id": "7RVJM5bT53Bg",
        "outputId": "22dc3b2c-42bc-4d1a-dbb9-94b961d36cbc"
      },
      "source": [
        "!kaggle competitions download -c titanic"
      ],
      "execution_count": 4,
      "outputs": [
        {
          "output_type": "stream",
          "text": [
            "Warning: Looks like you're using an outdated API Version, please consider updating (server 1.5.12 / client 1.5.4)\n",
            "Downloading gender_submission.csv to /content\n",
            "  0% 0.00/3.18k [00:00<?, ?B/s]\n",
            "100% 3.18k/3.18k [00:00<00:00, 2.90MB/s]\n",
            "Downloading test.csv to /content\n",
            "  0% 0.00/28.0k [00:00<?, ?B/s]\n",
            "100% 28.0k/28.0k [00:00<00:00, 28.6MB/s]\n",
            "Downloading train.csv to /content\n",
            "  0% 0.00/59.8k [00:00<?, ?B/s]\n",
            "100% 59.8k/59.8k [00:00<00:00, 52.0MB/s]\n"
          ],
          "name": "stdout"
        }
      ]
    },
    {
      "cell_type": "code",
      "metadata": {
        "colab": {
          "base_uri": "https://localhost:8080/"
        },
        "id": "91h64KeX59wL",
        "outputId": "440f7418-26ef-488b-fe9c-7df0ec8a6ec9"
      },
      "source": [
        "import numpy as np\n",
        "import pandas as pd\n",
        "import tensorflow.compat.v1 as tf\n",
        "tf.disable_v2_behavior()\n",
        "import time\n",
        "from tensorflow.python.framework import ops\n",
        "ops.reset_default_graph()\n",
        "def parse(df):\n",
        "    # Nan を -1 に置換\n",
        "    df[\"Age\"] = df[\"Age\"].fillna(-1)\n",
        "    df[\"Embarked\"] = df[\"Embarked\"].fillna(-1)\n",
        "    # 文字列を数値に変換\n",
        "    df[\"Sex\"][df[\"Sex\"] == \"male\"] = 0\n",
        "    df[\"Sex\"][df[\"Sex\"] == \"female\"] = 1\n",
        "    df[\"Embarked\"][df[\"Embarked\"] == \"S\" ] = 0\n",
        "    df[\"Embarked\"][df[\"Embarked\"] == \"C\" ] = 1\n",
        "    df[\"Embarked\"][df[\"Embarked\"] == \"Q\"] = 2\n",
        "    return df\n",
        "\n",
        "def split_val(x,y,rate,seed=None):\n",
        "    # x,y の rate[%] をランダム分割\n",
        "    N = x.shape[0]\n",
        "    val_num = int(N*rate)\n",
        "    if seed is not None:\n",
        "        np.random.seed(seed)\n",
        "    perm = np.random.permutation(N)\n",
        "    ti = perm[:-val_num]\n",
        "    vi = perm[-val_num:]\n",
        "    return x[ti],y[ti],x[vi],y[vi]\n",
        "\n",
        "def load_data():\n",
        "    train_csv = pd.read_csv('train.csv')\n",
        "    train_csv = parse(train_csv)\n",
        "    train_x = train_csv[['Pclass', 'Sex', 'Fare','SibSp', 'Parch', 'Age', 'Embarked']].values\n",
        "    train_y = train_csv['Survived'].values\n",
        "    return split_val(train_x,train_y,0.1)"
      ],
      "execution_count": 12,
      "outputs": [
        {
          "output_type": "stream",
          "text": [
            "WARNING:tensorflow:From /usr/local/lib/python3.7/dist-packages/tensorflow/python/compat/v2_compat.py:96: disable_resource_variables (from tensorflow.python.ops.variable_scope) is deprecated and will be removed in a future version.\n",
            "Instructions for updating:\n",
            "non-resource variables are not supported in the long term\n"
          ],
          "name": "stdout"
        }
      ]
    },
    {
      "cell_type": "code",
      "metadata": {
        "id": "a_cOYCD46JNf"
      },
      "source": [
        "def create_model(input_placeholder,u_dim,layer_num,y_dim,training):\n",
        "    h = input_placeholder\n",
        "    for i in range(layer_num):\n",
        "        h = tf.layers.dense(inputs=h, units=u_dim,activation=tf.nn.relu)\n",
        "        h = tf.layers.batch_normalization(h,training=training)  \n",
        "    h = tf.layers.dense(inputs=h, units=y_dim)\n",
        "    return h"
      ],
      "execution_count": 13,
      "outputs": []
    },
    {
      "cell_type": "code",
      "metadata": {
        "colab": {
          "base_uri": "https://localhost:8080/"
        },
        "id": "WkDhJyct6Lza",
        "outputId": "863e57fe-44b6-4799-ef6c-4e18b524b767"
      },
      "source": [
        "np.random.seed(0)\n",
        "tf.reset_default_graph()\n",
        "y_dim     = 2\n",
        "# hyperparameters\n",
        "u_dim     = 100\n",
        "layer_num = 2\n",
        "epoch     = 1000\n",
        "log_freq  = 100\n",
        "batchsize = 200\n",
        "lr        = 0.001\n",
        "\n",
        "# data load\n",
        "train_x,train_y,val_x,val_y = load_data()\n",
        "N  = train_y.shape[0]\n",
        "Nv = val_y.shape[0]\n",
        "print('train num: {}, val num: {}'.format(N,Nv))\n",
        "\n",
        "# calculation graph\n",
        "x = tf.placeholder(tf.float32, [None, train_x.shape[1]],\"input\")\n",
        "y = tf.placeholder(tf.int32, [None])\n",
        "\n",
        "with tf.variable_scope(\"model\"):\n",
        "  train_z = create_model(x,u_dim,layer_num,y_dim,training=True)\n",
        "with tf.variable_scope(\"model\", reuse=True):\n",
        "  z       = create_model(x,u_dim,layer_num,y_dim,training=False)\n",
        "\n",
        "cross_entropy = tf.losses.sparse_softmax_cross_entropy(labels=y, logits=train_z)\n",
        "\n",
        "extra_ops = tf.get_collection(tf.GraphKeys.UPDATE_OPS)\n",
        "with tf.control_dependencies(extra_ops):\n",
        "  train_step = tf.train.AdamOptimizer(lr).minimize(cross_entropy)\n",
        "\n",
        "pred_y = tf.cast(tf.argmax(z, 1), tf.int32)\n",
        "accuracy = tf.reduce_mean(tf.cast(tf.equal(pred_y, y), tf.float32))\n",
        "\n",
        "# main loop\n",
        "sess = tf.InteractiveSession()\n",
        "tf.global_variables_initializer().run()\n",
        "T = time.time() \n",
        "for ep in range(1,epoch+1) :\n",
        "  perm=np.random.permutation(N)\n",
        "  for i in range(0,N,batchsize):\n",
        "    batch_xs=train_x[perm[i:i+batchsize]]\n",
        "    batch_ys=train_y[perm[i:i+batchsize]]\n",
        "    sess.run(train_step, feed_dict={x: batch_xs, y: batch_ys})\n",
        "  # monitor\n",
        "  if ep%log_freq ==0 :      \n",
        "    train_loss, train_acc = sess.run([cross_entropy, accuracy], feed_dict={x: train_x, y: train_y})\n",
        "    val_loss, val_acc     = sess.run([cross_entropy, accuracy], feed_dict={x: val_x, y: val_y})\n",
        "    epochT = time.time()-T\n",
        "    print('Epoch: %d, Time :%.4f (s), train_loss: %f,  train_acc: %f, val_loss: %f,  val_acc: %f' % (ep, epochT, train_loss, train_acc, val_loss, val_acc))\n",
        "    T = time.time()"
      ],
      "execution_count": 14,
      "outputs": [
        {
          "output_type": "stream",
          "text": [
            "train num: 802, val num: 89\n",
            "WARNING:tensorflow:From /usr/local/lib/python3.7/dist-packages/tensorflow/python/keras/layers/normalization.py:534: _colocate_with (from tensorflow.python.framework.ops) is deprecated and will be removed in a future version.\n",
            "Instructions for updating:\n",
            "Colocations handled automatically by placer.\n"
          ],
          "name": "stdout"
        },
        {
          "output_type": "stream",
          "text": [
            "/usr/local/lib/python3.7/dist-packages/ipykernel_launcher.py:13: SettingWithCopyWarning: \n",
            "A value is trying to be set on a copy of a slice from a DataFrame\n",
            "\n",
            "See the caveats in the documentation: https://pandas.pydata.org/pandas-docs/stable/user_guide/indexing.html#returning-a-view-versus-a-copy\n",
            "  del sys.path[0]\n",
            "/usr/local/lib/python3.7/dist-packages/ipykernel_launcher.py:14: SettingWithCopyWarning: \n",
            "A value is trying to be set on a copy of a slice from a DataFrame\n",
            "\n",
            "See the caveats in the documentation: https://pandas.pydata.org/pandas-docs/stable/user_guide/indexing.html#returning-a-view-versus-a-copy\n",
            "  \n",
            "/usr/local/lib/python3.7/dist-packages/ipykernel_launcher.py:15: SettingWithCopyWarning: \n",
            "A value is trying to be set on a copy of a slice from a DataFrame\n",
            "\n",
            "See the caveats in the documentation: https://pandas.pydata.org/pandas-docs/stable/user_guide/indexing.html#returning-a-view-versus-a-copy\n",
            "  from ipykernel import kernelapp as app\n",
            "/usr/local/lib/python3.7/dist-packages/ipykernel_launcher.py:16: SettingWithCopyWarning: \n",
            "A value is trying to be set on a copy of a slice from a DataFrame\n",
            "\n",
            "See the caveats in the documentation: https://pandas.pydata.org/pandas-docs/stable/user_guide/indexing.html#returning-a-view-versus-a-copy\n",
            "  app.launch_new_instance()\n",
            "/usr/local/lib/python3.7/dist-packages/ipykernel_launcher.py:17: SettingWithCopyWarning: \n",
            "A value is trying to be set on a copy of a slice from a DataFrame\n",
            "\n",
            "See the caveats in the documentation: https://pandas.pydata.org/pandas-docs/stable/user_guide/indexing.html#returning-a-view-versus-a-copy\n",
            "/usr/local/lib/python3.7/dist-packages/tensorflow/python/keras/legacy_tf_layers/core.py:171: UserWarning: `tf.layers.dense` is deprecated and will be removed in a future version. Please use `tf.keras.layers.Dense` instead.\n",
            "  warnings.warn('`tf.layers.dense` is deprecated and '\n",
            "/usr/local/lib/python3.7/dist-packages/tensorflow/python/keras/engine/base_layer_v1.py:1692: UserWarning: `layer.apply` is deprecated and will be removed in a future version. Please use `layer.__call__` method instead.\n",
            "  warnings.warn('`layer.apply` is deprecated and '\n",
            "/usr/local/lib/python3.7/dist-packages/tensorflow/python/keras/legacy_tf_layers/normalization.py:308: UserWarning: `tf.layers.batch_normalization` is deprecated and will be removed in a future version. Please use `tf.keras.layers.BatchNormalization` instead. In particular, `tf.control_dependencies(tf.GraphKeys.UPDATE_OPS)` should not be used (consult the `tf.keras.layers.BatchNormalization` documentation).\n",
            "  '`tf.layers.batch_normalization` is deprecated and '\n"
          ],
          "name": "stderr"
        },
        {
          "output_type": "stream",
          "text": [
            "Epoch: 100, Time :2.3009 (s), train_loss: 0.418984,  train_acc: 0.718204, val_loss: 0.401131,  val_acc: 0.786517\n",
            "Epoch: 200, Time :0.9462 (s), train_loss: 0.437863,  train_acc: 0.764339, val_loss: 0.583735,  val_acc: 0.685393\n",
            "Epoch: 300, Time :0.9648 (s), train_loss: 0.410202,  train_acc: 0.805486, val_loss: 0.486046,  val_acc: 0.775281\n",
            "Epoch: 400, Time :0.9427 (s), train_loss: 0.402765,  train_acc: 0.827930, val_loss: 0.471878,  val_acc: 0.808989\n",
            "Epoch: 500, Time :0.9569 (s), train_loss: 0.388416,  train_acc: 0.824190, val_loss: 0.490891,  val_acc: 0.786517\n",
            "Epoch: 600, Time :0.9510 (s), train_loss: 0.386889,  train_acc: 0.821696, val_loss: 0.417588,  val_acc: 0.831461\n",
            "Epoch: 700, Time :0.9593 (s), train_loss: 0.385314,  train_acc: 0.806733, val_loss: 0.435373,  val_acc: 0.831461\n",
            "Epoch: 800, Time :0.9590 (s), train_loss: 0.393612,  train_acc: 0.812968, val_loss: 0.471411,  val_acc: 0.775281\n",
            "Epoch: 900, Time :0.9488 (s), train_loss: 0.382463,  train_acc: 0.840399, val_loss: 0.465884,  val_acc: 0.808989\n",
            "Epoch: 1000, Time :0.9533 (s), train_loss: 0.438085,  train_acc: 0.705736, val_loss: 0.531599,  val_acc: 0.629214\n"
          ],
          "name": "stdout"
        }
      ]
    },
    {
      "cell_type": "code",
      "metadata": {
        "id": "bLnKsuHG6Nq-"
      },
      "source": [
        ""
      ],
      "execution_count": null,
      "outputs": []
    }
  ]
}